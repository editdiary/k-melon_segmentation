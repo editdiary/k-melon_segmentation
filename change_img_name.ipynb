{
 "cells": [
  {
   "cell_type": "code",
   "execution_count": 1,
   "metadata": {},
   "outputs": [],
   "source": [
    "import os\n",
    "from tqdm import tqdm"
   ]
  },
  {
   "cell_type": "code",
   "execution_count": 2,
   "metadata": {},
   "outputs": [
    {
     "name": "stderr",
     "output_type": "stream",
     "text": [
      "changing file names: 100%|██████████| 689/689 [00:00<00:00, 1672.43img_files/s]\n"
     ]
    }
   ],
   "source": [
    "def remove_rf_extension(img):\n",
    "    org_img_name = img.split('.')[0][:-4] + '.jpg'\n",
    "    return org_img_name\n",
    "\n",
    "img_dir = \"C:/Users/dohyeon/Desktop/agetch_seg/dataset\"\n",
    "img_lists = os.listdir(img_dir)\n",
    "\n",
    "for old_img_name in tqdm(img_lists, desc=\"changing file names\", unit=\"img_files\"):\n",
    "    new_img_name = remove_rf_extension(old_img_name)\n",
    "    old_path = os.path.join(img_dir, old_img_name)\n",
    "    new_path = os.path.join(img_dir, new_img_name)\n",
    "    os.rename(old_path, new_path)"
   ]
  },
  {
   "cell_type": "code",
   "execution_count": null,
   "metadata": {},
   "outputs": [],
   "source": []
  }
 ],
 "metadata": {
  "kernelspec": {
   "display_name": "py38",
   "language": "python",
   "name": "python3"
  },
  "language_info": {
   "codemirror_mode": {
    "name": "ipython",
    "version": 3
   },
   "file_extension": ".py",
   "mimetype": "text/x-python",
   "name": "python",
   "nbconvert_exporter": "python",
   "pygments_lexer": "ipython3",
   "version": "3.8.20"
  }
 },
 "nbformat": 4,
 "nbformat_minor": 2
}
