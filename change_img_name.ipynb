{
 "cells": [
  {
   "cell_type": "code",
   "execution_count": 5,
   "metadata": {},
   "outputs": [],
   "source": [
    "import os\n",
    "from tqdm import tqdm\n",
    "\n",
    "def _rename_files(img):\n",
    "    org_img_name = img.split('.')[0][:-4] + '.jpg'\n",
    "    return org_img_name\n",
    "\n",
    "def remove_rf_extension(path_lists):\n",
    "    for path in path_lists:\n",
    "        img_dir = path\n",
    "        img_lists = [f for f in os.listdir(img_dir) if f.endswith('.jpg' or '.JPG')]\n",
    "\n",
    "        for old_img_name in tqdm(img_lists, desc=\"changing file names\", unit=\"img_files\"):\n",
    "            new_img_name = _rename_files(old_img_name)\n",
    "            old_path = os.path.join(img_dir, old_img_name)\n",
    "            new_path = os.path.join(img_dir, new_img_name)\n",
    "            os.rename(old_path, new_path)"
   ]
  },
  {
   "cell_type": "code",
   "execution_count": 6,
   "metadata": {},
   "outputs": [
    {
     "name": "stderr",
     "output_type": "stream",
     "text": [
      "changing file names: 100%|██████████| 330/330 [00:00<00:00, 2229.20img_files/s]\n",
      "changing file names: 100%|██████████| 111/111 [00:00<00:00, 2517.19img_files/s]\n",
      "changing file names: 100%|██████████| 110/110 [00:00<00:00, 2309.79img_files/s]\n"
     ]
    }
   ],
   "source": [
    "# 경로 지정\n",
    "train_path = \"dataset_path/train\"\n",
    "val_path = \"dataset_path/valid\"\n",
    "test_path = \"dataset_path/test\"\n",
    "\n",
    "path_lists = [train_path, val_path, test_path]\n",
    "\n",
    "# 확장자 제거\n",
    "remove_rf_extension(path_lists)"
   ]
  }
 ],
 "metadata": {
  "kernelspec": {
   "display_name": "py39",
   "language": "python",
   "name": "python3"
  },
  "language_info": {
   "codemirror_mode": {
    "name": "ipython",
    "version": 3
   },
   "file_extension": ".py",
   "mimetype": "text/x-python",
   "name": "python",
   "nbconvert_exporter": "python",
   "pygments_lexer": "ipython3",
   "version": "3.9.21"
  }
 },
 "nbformat": 4,
 "nbformat_minor": 2
}
