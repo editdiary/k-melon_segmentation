{
 "cells": [
  {
   "cell_type": "markdown",
   "metadata": {},
   "source": [
    "# Roboflow에서 labeling한 COCO json 정보 시각화 및 mask 파일 변환"
   ]
  },
  {
   "cell_type": "code",
   "execution_count": 40,
   "metadata": {},
   "outputs": [
    {
     "name": "stdout",
     "output_type": "stream",
     "text": [
      "loading annotations into memory...\n",
      "Done (t=0.00s)\n",
      "creating index...\n",
      "index created!\n"
     ]
    },
    {
     "data": {
      "text/plain": [
       "True"
      ]
     },
     "execution_count": 40,
     "metadata": {},
     "output_type": "execute_result"
    }
   ],
   "source": [
    "import cv2\n",
    "from pycocotools.coco import COCO\n",
    "import numpy as np\n",
    "\n",
    "# COCO API 초기화\n",
    "coco = COCO('rf_coco_seg.json')\n",
    "\n",
    "# 첫 번째 이미지 정보 로드\n",
    "img_info = coco.loadImgs(0)[0]\n",
    "\n",
    "# 어노테이션 ID 및 정보 가져오기\n",
    "ann_ids = coco.getAnnIds(imgIds=img_info['id'])\n",
    "anns = coco.loadAnns(ann_ids)\n",
    "\n",
    "# 클래스 수에 따라 색상 맵 생성 (시각화를 위한)\n",
    "color_map = np.random.randint(0, 255, (len(coco.getCatIds()), 3))\n",
    "\n",
    "# 그레이스케일 마스크 생성 (클래스 ID를 저장)\n",
    "mask_gray = np.zeros((img_info['height'], img_info['width']), dtype=np.uint8)\n",
    "\n",
    "# RGB 마스크 생성 (시각화를 위한)\n",
    "mask_rgb = np.zeros((img_info['height'], img_info['width'], 3), dtype=np.uint8)\n",
    "\n",
    "for ann in anns:\n",
    "    category_id = ann['category_id']\n",
    "    \n",
    "    # 그레이스케일 마스크에 클래스 ID 저장\n",
    "    category_mask = coco.annToMask(ann)\n",
    "    mask_gray[category_mask > 0] = category_id  # 클래스 ID로 설정\n",
    "    \n",
    "    # RGB 마스크에 색상 적용\n",
    "    category_color = color_map[category_id % len(color_map)]\n",
    "    mask_rgb[category_mask > 0] = category_color\n",
    "\n",
    "# OpenCV를 사용하여 그레이스케일 마스크 저장\n",
    "cv2.imwrite(\"mask_temp_gray.png\", mask_gray)\n",
    "\n",
    "# OpenCV를 사용하여 RGB 마스크 저장 (시각화용)\n",
    "cv2.imwrite(\"mask_temp_rgb.png\", mask_rgb)\n",
    "\n",
    "# # 선택적으로 원본 이미지 위에 RGB 마스크 오버레이하기\n",
    "# image = cv2.imread(img_info['file_name'])\n",
    "# overlay = cv2.addWeighted(image, 0.7, mask_rgb, 0.3, 0)\n",
    "# cv2.imwrite(\"overlay_temp.png\", overlay)"
   ]
  },
  {
   "cell_type": "markdown",
   "metadata": {},
   "source": [
    "# grayscale의 저장된 masking 이미지 확인"
   ]
  },
  {
   "cell_type": "code",
   "execution_count": 26,
   "metadata": {},
   "outputs": [
    {
     "data": {
      "text/plain": [
       "(3024, 4032)"
      ]
     },
     "execution_count": 26,
     "metadata": {},
     "output_type": "execute_result"
    }
   ],
   "source": [
    "import cv2\n",
    "\n",
    "# 저장된 masking 이미지의 채널 확인(RGB 채널이 아닌 Gray scale이 맞는지 확인)\n",
    "gray_img = cv2.imread('mask_temp_gray.png', cv2.IMREAD_GRAYSCALE)\n",
    "gray_img.shape"
   ]
  },
  {
   "cell_type": "markdown",
   "metadata": {},
   "source": [
    "> 저장된 masking 이미지의 채널 확인(RGB 채널이 아닌 Gray scale이 맞는지 확인)"
   ]
  },
  {
   "cell_type": "code",
   "execution_count": null,
   "metadata": {},
   "outputs": [
    {
     "name": "stdout",
     "output_type": "stream",
     "text": [
      "Original Image Shape: (3024, 4032)\n",
      "Resized Image Shape: (756, 1008)\n"
     ]
    }
   ],
   "source": [
    "import cv2\n",
    "\n",
    "# 이미지 불러오기\n",
    "gray_img = cv2.imread('mask_temp_gray.png', cv2.IMREAD_GRAYSCALE)\n",
    "gray_scaled = gray_img * int(255.0/gray_img.max())    # class별 mask scale을 255로 맞춤으로써 시각적으로 보이도록 만듦\n",
    "# >>> 현재 시각화 편의를 위해 gray_img의 max() 값을 기준으로 나누지만, class 갯수가 정해져 있을 경우 이를 고려하여 값이 게산되어야 함함\n",
    "\n",
    "# 원본 이미지 크기 출력\n",
    "print(f\"Original Image Shape: {gray_img.shape}\")  # (height, width, channels)\n",
    "\n",
    "# 전체 비율 설정\n",
    "scale_factor = 0.25  # 전체 비율의 25%\n",
    "\n",
    "# 비율에 따라 이미지 크기 조절\n",
    "resized_gray = cv2.resize(gray_img, dsize=(0, 0), fx=scale_factor, fy=scale_factor, interpolation=cv2.INTER_LINEAR)\n",
    "resized_scaled_gray = cv2.resize(gray_scaled, dsize=(0, 0), fx=scale_factor, fy=scale_factor, interpolation=cv2.INTER_LINEAR)\n",
    "\n",
    "# 조정된 이미지 크기 출력\n",
    "print(f\"Resized Image Shape: {resized_gray.shape}\")  # (new_height, new_width, channels)\n",
    "\n",
    "# 조정된 이미지 표시\n",
    "cv2.imshow(\"Resized Origin Gray Image\", resized_gray)\n",
    "cv2.imshow(\"Resized Scaled Gray Image\", resized_scaled_gray)\n",
    "cv2.waitKey(0)\n",
    "cv2.destroyAllWindows()\n"
   ]
  }
 ],
 "metadata": {
  "kernelspec": {
   "display_name": "py38",
   "language": "python",
   "name": "python3"
  },
  "language_info": {
   "codemirror_mode": {
    "name": "ipython",
    "version": 3
   },
   "file_extension": ".py",
   "mimetype": "text/x-python",
   "name": "python",
   "nbconvert_exporter": "python",
   "pygments_lexer": "ipython3",
   "version": "3.8.20"
  }
 },
 "nbformat": 4,
 "nbformat_minor": 2
}
